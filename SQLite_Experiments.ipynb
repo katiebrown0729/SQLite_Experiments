{
 "cells": [
  {
   "cell_type": "markdown",
   "metadata": {},
   "source": [
    "# First Python program that connects to a database"
   ]
  },
  {
   "cell_type": "markdown",
   "metadata": {},
   "source": []
  },
  {
   "cell_type": "code",
   "execution_count": 7,
   "metadata": {},
   "outputs": [],
   "source": [
    "#Connect to SQLite\n",
    "import sqlite3\n",
    "#Specific exceptions SQLite may raise\n",
    "from sqlite3 import Error "
   ]
  },
  {
   "cell_type": "code",
   "execution_count": 8,
   "metadata": {},
   "outputs": [],
   "source": [
    "#Create a connection object that represents the database\n",
    "#Remember \\\\ for Windows\n",
    "conn = sqlite3.connect('data\\\\people.db')"
   ]
  },
  {
   "cell_type": "code",
   "execution_count": 9,
   "metadata": {},
   "outputs": [],
   "source": [
    "#Cursor object stores knowledge about transactions excuted against database\n",
    "cur = conn.cursor()"
   ]
  },
  {
   "cell_type": "code",
   "execution_count": 4,
   "metadata": {},
   "outputs": [
    {
     "data": {
      "text/plain": [
       "<sqlite3.Cursor at 0x12ffc5bcdc0>"
      ]
     },
     "execution_count": 4,
     "metadata": {},
     "output_type": "execute_result"
    }
   ],
   "source": [
    "cur.execute(\"select * from people;\")\n",
    "#This executes the command, but doesn't display automatically"
   ]
  },
  {
   "cell_type": "code",
   "execution_count": 5,
   "metadata": {},
   "outputs": [
    {
     "data": {
      "text/plain": [
       "[(1, 'KatieDavid'),\n",
       " (2, 'Shane'),\n",
       " (3, 'Megan'),\n",
       " (4, 'DorothyJohn'),\n",
       " (5, 'David'),\n",
       " (6, 'Newb')]"
      ]
     },
     "execution_count": 5,
     "metadata": {},
     "output_type": "execute_result"
    }
   ],
   "source": [
    "rows = cur.fetchall()\n",
    "rows"
   ]
  },
  {
   "cell_type": "code",
   "execution_count": 6,
   "metadata": {},
   "outputs": [
    {
     "data": {
      "text/plain": [
       "(4, 'DorothyJohn')"
      ]
     },
     "execution_count": 6,
     "metadata": {},
     "output_type": "execute_result"
    }
   ],
   "source": [
    "rows[3]\n"
   ]
  },
  {
   "cell_type": "raw",
   "metadata": {},
   "source": [
    "cur.close()"
   ]
  },
  {
   "cell_type": "code",
   "execution_count": 7,
   "metadata": {},
   "outputs": [
    {
     "name": "stdout",
     "output_type": "stream",
     "text": [
      "[(1, 1, 'Potato'), (2, 1, 'Pickle'), (3, 1, 'Pancake'), (4, 1, 'Mortie'), (5, 1, 'Malfoy'), (6, 1, 'Ned'), (7, 2, 'Callahan'), (8, 4, 'Maizer'), (9, 4, 'Kringle'), (11, 5, 'Birdie'), (12, 6, 'Wiggly')]\n"
     ]
    }
   ],
   "source": [
    "cur = conn.cursor()\n",
    "cur.execute(\"select * from pets\")\n",
    "rows = cur.fetchall()\n",
    "print(rows)\n",
    "cur.close()"
   ]
  },
  {
   "cell_type": "code",
   "execution_count": 8,
   "metadata": {},
   "outputs": [
    {
     "name": "stdout",
     "output_type": "stream",
     "text": [
      "[(5, 1, 'Malfoy')]\n"
     ]
    }
   ],
   "source": [
    "cur = conn.cursor()\n",
    "petName = ('Malfoy',)\n",
    "cur.execute('select * from pets where pet_name = ?', petName)\n",
    "rows = cur.fetchall()\n",
    "print(rows)\n",
    "cur.close()"
   ]
  },
  {
   "cell_type": "code",
   "execution_count": 9,
   "metadata": {},
   "outputs": [
    {
     "name": "stdout",
     "output_type": "stream",
     "text": [
      "select * from pets where pet_name = Malfoy\n"
     ]
    }
   ],
   "source": [
    "petName = 'Malfoy'\n",
    "sqlString = 'select * from pets where pet_name = {}'.format(petName)\n",
    "print(sqlString)"
   ]
  },
  {
   "cell_type": "code",
   "execution_count": 10,
   "metadata": {},
   "outputs": [
    {
     "name": "stdout",
     "output_type": "stream",
     "text": [
      "Enter pet nameMalfoy\n",
      "[(5, 1, 'Malfoy')]\n"
     ]
    }
   ],
   "source": [
    "cur = conn.cursor()\n",
    "petName = input('Enter pet name')\n",
    "sqlString = 'select * from pets where pet_name = \"{}\"'.format(petName)\n",
    "cur.execute(sqlString)\n",
    "rows = cur.fetchall()\n",
    "print(rows)\n",
    "cur.close()"
   ]
  },
  {
   "cell_type": "markdown",
   "metadata": {},
   "source": [
    "# Execute SQL Query using Pandas"
   ]
  },
  {
   "cell_type": "code",
   "execution_count": 11,
   "metadata": {},
   "outputs": [],
   "source": [
    "import pandas as pd"
   ]
  },
  {
   "cell_type": "code",
   "execution_count": 12,
   "metadata": {},
   "outputs": [],
   "source": [
    "df = pd.read_sql_query(sqlString,conn)"
   ]
  },
  {
   "cell_type": "code",
   "execution_count": 13,
   "metadata": {},
   "outputs": [
    {
     "data": {
      "text/html": [
       "<div>\n",
       "<style scoped>\n",
       "    .dataframe tbody tr th:only-of-type {\n",
       "        vertical-align: middle;\n",
       "    }\n",
       "\n",
       "    .dataframe tbody tr th {\n",
       "        vertical-align: top;\n",
       "    }\n",
       "\n",
       "    .dataframe thead th {\n",
       "        text-align: right;\n",
       "    }\n",
       "</style>\n",
       "<table border=\"1\" class=\"dataframe\">\n",
       "  <thead>\n",
       "    <tr style=\"text-align: right;\">\n",
       "      <th></th>\n",
       "      <th>pet_id</th>\n",
       "      <th>owner_id</th>\n",
       "      <th>pet_name</th>\n",
       "    </tr>\n",
       "  </thead>\n",
       "  <tbody>\n",
       "    <tr>\n",
       "      <th>0</th>\n",
       "      <td>5</td>\n",
       "      <td>1</td>\n",
       "      <td>Malfoy</td>\n",
       "    </tr>\n",
       "  </tbody>\n",
       "</table>\n",
       "</div>"
      ],
      "text/plain": [
       "   pet_id  owner_id pet_name\n",
       "0       5         1   Malfoy"
      ]
     },
     "execution_count": 13,
     "metadata": {},
     "output_type": "execute_result"
    }
   ],
   "source": [
    "df"
   ]
  },
  {
   "cell_type": "code",
   "execution_count": 14,
   "metadata": {},
   "outputs": [],
   "source": [
    "#Pandas eliminates the need for cursor"
   ]
  },
  {
   "cell_type": "markdown",
   "metadata": {},
   "source": [
    "# Insert Rows with Python"
   ]
  },
  {
   "cell_type": "code",
   "execution_count": 15,
   "metadata": {},
   "outputs": [
    {
     "name": "stdout",
     "output_type": "stream",
     "text": [
      "insert into people (first_name) values ('Dorothy');\n",
      "insert into pets (pet_name, owner_id) values ('Newbie', last_insert_rowid());\n"
     ]
    },
    {
     "data": {
      "text/html": [
       "<div>\n",
       "<style scoped>\n",
       "    .dataframe tbody tr th:only-of-type {\n",
       "        vertical-align: middle;\n",
       "    }\n",
       "\n",
       "    .dataframe tbody tr th {\n",
       "        vertical-align: top;\n",
       "    }\n",
       "\n",
       "    .dataframe thead th {\n",
       "        text-align: right;\n",
       "    }\n",
       "</style>\n",
       "<table border=\"1\" class=\"dataframe\">\n",
       "  <thead>\n",
       "    <tr style=\"text-align: right;\">\n",
       "      <th></th>\n",
       "      <th>person_id</th>\n",
       "      <th>first_name</th>\n",
       "      <th>pet_id</th>\n",
       "      <th>owner_id</th>\n",
       "      <th>pet_name</th>\n",
       "    </tr>\n",
       "  </thead>\n",
       "  <tbody>\n",
       "    <tr>\n",
       "      <th>0</th>\n",
       "      <td>1</td>\n",
       "      <td>KatieDavid</td>\n",
       "      <td>1</td>\n",
       "      <td>1</td>\n",
       "      <td>Potato</td>\n",
       "    </tr>\n",
       "    <tr>\n",
       "      <th>1</th>\n",
       "      <td>1</td>\n",
       "      <td>KatieDavid</td>\n",
       "      <td>2</td>\n",
       "      <td>1</td>\n",
       "      <td>Pickle</td>\n",
       "    </tr>\n",
       "    <tr>\n",
       "      <th>2</th>\n",
       "      <td>1</td>\n",
       "      <td>KatieDavid</td>\n",
       "      <td>3</td>\n",
       "      <td>1</td>\n",
       "      <td>Pancake</td>\n",
       "    </tr>\n",
       "    <tr>\n",
       "      <th>3</th>\n",
       "      <td>1</td>\n",
       "      <td>KatieDavid</td>\n",
       "      <td>4</td>\n",
       "      <td>1</td>\n",
       "      <td>Mortie</td>\n",
       "    </tr>\n",
       "    <tr>\n",
       "      <th>4</th>\n",
       "      <td>1</td>\n",
       "      <td>KatieDavid</td>\n",
       "      <td>5</td>\n",
       "      <td>1</td>\n",
       "      <td>Malfoy</td>\n",
       "    </tr>\n",
       "    <tr>\n",
       "      <th>5</th>\n",
       "      <td>1</td>\n",
       "      <td>KatieDavid</td>\n",
       "      <td>6</td>\n",
       "      <td>1</td>\n",
       "      <td>Ned</td>\n",
       "    </tr>\n",
       "    <tr>\n",
       "      <th>6</th>\n",
       "      <td>1</td>\n",
       "      <td>KatieDavid</td>\n",
       "      <td>7</td>\n",
       "      <td>2</td>\n",
       "      <td>Callahan</td>\n",
       "    </tr>\n",
       "    <tr>\n",
       "      <th>7</th>\n",
       "      <td>1</td>\n",
       "      <td>KatieDavid</td>\n",
       "      <td>8</td>\n",
       "      <td>4</td>\n",
       "      <td>Maizer</td>\n",
       "    </tr>\n",
       "    <tr>\n",
       "      <th>8</th>\n",
       "      <td>1</td>\n",
       "      <td>KatieDavid</td>\n",
       "      <td>9</td>\n",
       "      <td>4</td>\n",
       "      <td>Kringle</td>\n",
       "    </tr>\n",
       "    <tr>\n",
       "      <th>9</th>\n",
       "      <td>1</td>\n",
       "      <td>KatieDavid</td>\n",
       "      <td>11</td>\n",
       "      <td>5</td>\n",
       "      <td>Birdie</td>\n",
       "    </tr>\n",
       "    <tr>\n",
       "      <th>10</th>\n",
       "      <td>1</td>\n",
       "      <td>KatieDavid</td>\n",
       "      <td>12</td>\n",
       "      <td>6</td>\n",
       "      <td>Wiggly</td>\n",
       "    </tr>\n",
       "    <tr>\n",
       "      <th>11</th>\n",
       "      <td>1</td>\n",
       "      <td>KatieDavid</td>\n",
       "      <td>13</td>\n",
       "      <td>7</td>\n",
       "      <td>Newbie</td>\n",
       "    </tr>\n",
       "    <tr>\n",
       "      <th>12</th>\n",
       "      <td>2</td>\n",
       "      <td>Shane</td>\n",
       "      <td>1</td>\n",
       "      <td>1</td>\n",
       "      <td>Potato</td>\n",
       "    </tr>\n",
       "    <tr>\n",
       "      <th>13</th>\n",
       "      <td>2</td>\n",
       "      <td>Shane</td>\n",
       "      <td>2</td>\n",
       "      <td>1</td>\n",
       "      <td>Pickle</td>\n",
       "    </tr>\n",
       "    <tr>\n",
       "      <th>14</th>\n",
       "      <td>2</td>\n",
       "      <td>Shane</td>\n",
       "      <td>3</td>\n",
       "      <td>1</td>\n",
       "      <td>Pancake</td>\n",
       "    </tr>\n",
       "    <tr>\n",
       "      <th>15</th>\n",
       "      <td>2</td>\n",
       "      <td>Shane</td>\n",
       "      <td>4</td>\n",
       "      <td>1</td>\n",
       "      <td>Mortie</td>\n",
       "    </tr>\n",
       "    <tr>\n",
       "      <th>16</th>\n",
       "      <td>2</td>\n",
       "      <td>Shane</td>\n",
       "      <td>5</td>\n",
       "      <td>1</td>\n",
       "      <td>Malfoy</td>\n",
       "    </tr>\n",
       "    <tr>\n",
       "      <th>17</th>\n",
       "      <td>2</td>\n",
       "      <td>Shane</td>\n",
       "      <td>6</td>\n",
       "      <td>1</td>\n",
       "      <td>Ned</td>\n",
       "    </tr>\n",
       "    <tr>\n",
       "      <th>18</th>\n",
       "      <td>2</td>\n",
       "      <td>Shane</td>\n",
       "      <td>7</td>\n",
       "      <td>2</td>\n",
       "      <td>Callahan</td>\n",
       "    </tr>\n",
       "    <tr>\n",
       "      <th>19</th>\n",
       "      <td>2</td>\n",
       "      <td>Shane</td>\n",
       "      <td>8</td>\n",
       "      <td>4</td>\n",
       "      <td>Maizer</td>\n",
       "    </tr>\n",
       "    <tr>\n",
       "      <th>20</th>\n",
       "      <td>2</td>\n",
       "      <td>Shane</td>\n",
       "      <td>9</td>\n",
       "      <td>4</td>\n",
       "      <td>Kringle</td>\n",
       "    </tr>\n",
       "    <tr>\n",
       "      <th>21</th>\n",
       "      <td>2</td>\n",
       "      <td>Shane</td>\n",
       "      <td>11</td>\n",
       "      <td>5</td>\n",
       "      <td>Birdie</td>\n",
       "    </tr>\n",
       "    <tr>\n",
       "      <th>22</th>\n",
       "      <td>2</td>\n",
       "      <td>Shane</td>\n",
       "      <td>12</td>\n",
       "      <td>6</td>\n",
       "      <td>Wiggly</td>\n",
       "    </tr>\n",
       "    <tr>\n",
       "      <th>23</th>\n",
       "      <td>2</td>\n",
       "      <td>Shane</td>\n",
       "      <td>13</td>\n",
       "      <td>7</td>\n",
       "      <td>Newbie</td>\n",
       "    </tr>\n",
       "    <tr>\n",
       "      <th>24</th>\n",
       "      <td>3</td>\n",
       "      <td>Megan</td>\n",
       "      <td>1</td>\n",
       "      <td>1</td>\n",
       "      <td>Potato</td>\n",
       "    </tr>\n",
       "    <tr>\n",
       "      <th>25</th>\n",
       "      <td>3</td>\n",
       "      <td>Megan</td>\n",
       "      <td>2</td>\n",
       "      <td>1</td>\n",
       "      <td>Pickle</td>\n",
       "    </tr>\n",
       "    <tr>\n",
       "      <th>26</th>\n",
       "      <td>3</td>\n",
       "      <td>Megan</td>\n",
       "      <td>3</td>\n",
       "      <td>1</td>\n",
       "      <td>Pancake</td>\n",
       "    </tr>\n",
       "    <tr>\n",
       "      <th>27</th>\n",
       "      <td>3</td>\n",
       "      <td>Megan</td>\n",
       "      <td>4</td>\n",
       "      <td>1</td>\n",
       "      <td>Mortie</td>\n",
       "    </tr>\n",
       "    <tr>\n",
       "      <th>28</th>\n",
       "      <td>3</td>\n",
       "      <td>Megan</td>\n",
       "      <td>5</td>\n",
       "      <td>1</td>\n",
       "      <td>Malfoy</td>\n",
       "    </tr>\n",
       "    <tr>\n",
       "      <th>29</th>\n",
       "      <td>3</td>\n",
       "      <td>Megan</td>\n",
       "      <td>6</td>\n",
       "      <td>1</td>\n",
       "      <td>Ned</td>\n",
       "    </tr>\n",
       "    <tr>\n",
       "      <th>...</th>\n",
       "      <td>...</td>\n",
       "      <td>...</td>\n",
       "      <td>...</td>\n",
       "      <td>...</td>\n",
       "      <td>...</td>\n",
       "    </tr>\n",
       "    <tr>\n",
       "      <th>54</th>\n",
       "      <td>5</td>\n",
       "      <td>David</td>\n",
       "      <td>7</td>\n",
       "      <td>2</td>\n",
       "      <td>Callahan</td>\n",
       "    </tr>\n",
       "    <tr>\n",
       "      <th>55</th>\n",
       "      <td>5</td>\n",
       "      <td>David</td>\n",
       "      <td>8</td>\n",
       "      <td>4</td>\n",
       "      <td>Maizer</td>\n",
       "    </tr>\n",
       "    <tr>\n",
       "      <th>56</th>\n",
       "      <td>5</td>\n",
       "      <td>David</td>\n",
       "      <td>9</td>\n",
       "      <td>4</td>\n",
       "      <td>Kringle</td>\n",
       "    </tr>\n",
       "    <tr>\n",
       "      <th>57</th>\n",
       "      <td>5</td>\n",
       "      <td>David</td>\n",
       "      <td>11</td>\n",
       "      <td>5</td>\n",
       "      <td>Birdie</td>\n",
       "    </tr>\n",
       "    <tr>\n",
       "      <th>58</th>\n",
       "      <td>5</td>\n",
       "      <td>David</td>\n",
       "      <td>12</td>\n",
       "      <td>6</td>\n",
       "      <td>Wiggly</td>\n",
       "    </tr>\n",
       "    <tr>\n",
       "      <th>59</th>\n",
       "      <td>5</td>\n",
       "      <td>David</td>\n",
       "      <td>13</td>\n",
       "      <td>7</td>\n",
       "      <td>Newbie</td>\n",
       "    </tr>\n",
       "    <tr>\n",
       "      <th>60</th>\n",
       "      <td>6</td>\n",
       "      <td>Newb</td>\n",
       "      <td>1</td>\n",
       "      <td>1</td>\n",
       "      <td>Potato</td>\n",
       "    </tr>\n",
       "    <tr>\n",
       "      <th>61</th>\n",
       "      <td>6</td>\n",
       "      <td>Newb</td>\n",
       "      <td>2</td>\n",
       "      <td>1</td>\n",
       "      <td>Pickle</td>\n",
       "    </tr>\n",
       "    <tr>\n",
       "      <th>62</th>\n",
       "      <td>6</td>\n",
       "      <td>Newb</td>\n",
       "      <td>3</td>\n",
       "      <td>1</td>\n",
       "      <td>Pancake</td>\n",
       "    </tr>\n",
       "    <tr>\n",
       "      <th>63</th>\n",
       "      <td>6</td>\n",
       "      <td>Newb</td>\n",
       "      <td>4</td>\n",
       "      <td>1</td>\n",
       "      <td>Mortie</td>\n",
       "    </tr>\n",
       "    <tr>\n",
       "      <th>64</th>\n",
       "      <td>6</td>\n",
       "      <td>Newb</td>\n",
       "      <td>5</td>\n",
       "      <td>1</td>\n",
       "      <td>Malfoy</td>\n",
       "    </tr>\n",
       "    <tr>\n",
       "      <th>65</th>\n",
       "      <td>6</td>\n",
       "      <td>Newb</td>\n",
       "      <td>6</td>\n",
       "      <td>1</td>\n",
       "      <td>Ned</td>\n",
       "    </tr>\n",
       "    <tr>\n",
       "      <th>66</th>\n",
       "      <td>6</td>\n",
       "      <td>Newb</td>\n",
       "      <td>7</td>\n",
       "      <td>2</td>\n",
       "      <td>Callahan</td>\n",
       "    </tr>\n",
       "    <tr>\n",
       "      <th>67</th>\n",
       "      <td>6</td>\n",
       "      <td>Newb</td>\n",
       "      <td>8</td>\n",
       "      <td>4</td>\n",
       "      <td>Maizer</td>\n",
       "    </tr>\n",
       "    <tr>\n",
       "      <th>68</th>\n",
       "      <td>6</td>\n",
       "      <td>Newb</td>\n",
       "      <td>9</td>\n",
       "      <td>4</td>\n",
       "      <td>Kringle</td>\n",
       "    </tr>\n",
       "    <tr>\n",
       "      <th>69</th>\n",
       "      <td>6</td>\n",
       "      <td>Newb</td>\n",
       "      <td>11</td>\n",
       "      <td>5</td>\n",
       "      <td>Birdie</td>\n",
       "    </tr>\n",
       "    <tr>\n",
       "      <th>70</th>\n",
       "      <td>6</td>\n",
       "      <td>Newb</td>\n",
       "      <td>12</td>\n",
       "      <td>6</td>\n",
       "      <td>Wiggly</td>\n",
       "    </tr>\n",
       "    <tr>\n",
       "      <th>71</th>\n",
       "      <td>6</td>\n",
       "      <td>Newb</td>\n",
       "      <td>13</td>\n",
       "      <td>7</td>\n",
       "      <td>Newbie</td>\n",
       "    </tr>\n",
       "    <tr>\n",
       "      <th>72</th>\n",
       "      <td>7</td>\n",
       "      <td>Dorothy</td>\n",
       "      <td>1</td>\n",
       "      <td>1</td>\n",
       "      <td>Potato</td>\n",
       "    </tr>\n",
       "    <tr>\n",
       "      <th>73</th>\n",
       "      <td>7</td>\n",
       "      <td>Dorothy</td>\n",
       "      <td>2</td>\n",
       "      <td>1</td>\n",
       "      <td>Pickle</td>\n",
       "    </tr>\n",
       "    <tr>\n",
       "      <th>74</th>\n",
       "      <td>7</td>\n",
       "      <td>Dorothy</td>\n",
       "      <td>3</td>\n",
       "      <td>1</td>\n",
       "      <td>Pancake</td>\n",
       "    </tr>\n",
       "    <tr>\n",
       "      <th>75</th>\n",
       "      <td>7</td>\n",
       "      <td>Dorothy</td>\n",
       "      <td>4</td>\n",
       "      <td>1</td>\n",
       "      <td>Mortie</td>\n",
       "    </tr>\n",
       "    <tr>\n",
       "      <th>76</th>\n",
       "      <td>7</td>\n",
       "      <td>Dorothy</td>\n",
       "      <td>5</td>\n",
       "      <td>1</td>\n",
       "      <td>Malfoy</td>\n",
       "    </tr>\n",
       "    <tr>\n",
       "      <th>77</th>\n",
       "      <td>7</td>\n",
       "      <td>Dorothy</td>\n",
       "      <td>6</td>\n",
       "      <td>1</td>\n",
       "      <td>Ned</td>\n",
       "    </tr>\n",
       "    <tr>\n",
       "      <th>78</th>\n",
       "      <td>7</td>\n",
       "      <td>Dorothy</td>\n",
       "      <td>7</td>\n",
       "      <td>2</td>\n",
       "      <td>Callahan</td>\n",
       "    </tr>\n",
       "    <tr>\n",
       "      <th>79</th>\n",
       "      <td>7</td>\n",
       "      <td>Dorothy</td>\n",
       "      <td>8</td>\n",
       "      <td>4</td>\n",
       "      <td>Maizer</td>\n",
       "    </tr>\n",
       "    <tr>\n",
       "      <th>80</th>\n",
       "      <td>7</td>\n",
       "      <td>Dorothy</td>\n",
       "      <td>9</td>\n",
       "      <td>4</td>\n",
       "      <td>Kringle</td>\n",
       "    </tr>\n",
       "    <tr>\n",
       "      <th>81</th>\n",
       "      <td>7</td>\n",
       "      <td>Dorothy</td>\n",
       "      <td>11</td>\n",
       "      <td>5</td>\n",
       "      <td>Birdie</td>\n",
       "    </tr>\n",
       "    <tr>\n",
       "      <th>82</th>\n",
       "      <td>7</td>\n",
       "      <td>Dorothy</td>\n",
       "      <td>12</td>\n",
       "      <td>6</td>\n",
       "      <td>Wiggly</td>\n",
       "    </tr>\n",
       "    <tr>\n",
       "      <th>83</th>\n",
       "      <td>7</td>\n",
       "      <td>Dorothy</td>\n",
       "      <td>13</td>\n",
       "      <td>7</td>\n",
       "      <td>Newbie</td>\n",
       "    </tr>\n",
       "  </tbody>\n",
       "</table>\n",
       "<p>84 rows × 5 columns</p>\n",
       "</div>"
      ],
      "text/plain": [
       "    person_id  first_name  pet_id  owner_id  pet_name\n",
       "0           1  KatieDavid       1         1    Potato\n",
       "1           1  KatieDavid       2         1    Pickle\n",
       "2           1  KatieDavid       3         1   Pancake\n",
       "3           1  KatieDavid       4         1    Mortie\n",
       "4           1  KatieDavid       5         1    Malfoy\n",
       "5           1  KatieDavid       6         1       Ned\n",
       "6           1  KatieDavid       7         2  Callahan\n",
       "7           1  KatieDavid       8         4    Maizer\n",
       "8           1  KatieDavid       9         4   Kringle\n",
       "9           1  KatieDavid      11         5    Birdie\n",
       "10          1  KatieDavid      12         6    Wiggly\n",
       "11          1  KatieDavid      13         7    Newbie\n",
       "12          2       Shane       1         1    Potato\n",
       "13          2       Shane       2         1    Pickle\n",
       "14          2       Shane       3         1   Pancake\n",
       "15          2       Shane       4         1    Mortie\n",
       "16          2       Shane       5         1    Malfoy\n",
       "17          2       Shane       6         1       Ned\n",
       "18          2       Shane       7         2  Callahan\n",
       "19          2       Shane       8         4    Maizer\n",
       "20          2       Shane       9         4   Kringle\n",
       "21          2       Shane      11         5    Birdie\n",
       "22          2       Shane      12         6    Wiggly\n",
       "23          2       Shane      13         7    Newbie\n",
       "24          3       Megan       1         1    Potato\n",
       "25          3       Megan       2         1    Pickle\n",
       "26          3       Megan       3         1   Pancake\n",
       "27          3       Megan       4         1    Mortie\n",
       "28          3       Megan       5         1    Malfoy\n",
       "29          3       Megan       6         1       Ned\n",
       "..        ...         ...     ...       ...       ...\n",
       "54          5       David       7         2  Callahan\n",
       "55          5       David       8         4    Maizer\n",
       "56          5       David       9         4   Kringle\n",
       "57          5       David      11         5    Birdie\n",
       "58          5       David      12         6    Wiggly\n",
       "59          5       David      13         7    Newbie\n",
       "60          6        Newb       1         1    Potato\n",
       "61          6        Newb       2         1    Pickle\n",
       "62          6        Newb       3         1   Pancake\n",
       "63          6        Newb       4         1    Mortie\n",
       "64          6        Newb       5         1    Malfoy\n",
       "65          6        Newb       6         1       Ned\n",
       "66          6        Newb       7         2  Callahan\n",
       "67          6        Newb       8         4    Maizer\n",
       "68          6        Newb       9         4   Kringle\n",
       "69          6        Newb      11         5    Birdie\n",
       "70          6        Newb      12         6    Wiggly\n",
       "71          6        Newb      13         7    Newbie\n",
       "72          7     Dorothy       1         1    Potato\n",
       "73          7     Dorothy       2         1    Pickle\n",
       "74          7     Dorothy       3         1   Pancake\n",
       "75          7     Dorothy       4         1    Mortie\n",
       "76          7     Dorothy       5         1    Malfoy\n",
       "77          7     Dorothy       6         1       Ned\n",
       "78          7     Dorothy       7         2  Callahan\n",
       "79          7     Dorothy       8         4    Maizer\n",
       "80          7     Dorothy       9         4   Kringle\n",
       "81          7     Dorothy      11         5    Birdie\n",
       "82          7     Dorothy      12         6    Wiggly\n",
       "83          7     Dorothy      13         7    Newbie\n",
       "\n",
       "[84 rows x 5 columns]"
      ]
     },
     "execution_count": 15,
     "metadata": {},
     "output_type": "execute_result"
    }
   ],
   "source": [
    "#Insert statement\n",
    "person_first_name='Dorothy'\n",
    "person_last_name='Martinez'\n",
    "pet_name='Newbie'\n",
    "person_sql_string=\"insert into people (first_name) values ('{}');\".format(person_first_name)\n",
    "pet_sql_string=\"insert into pets (pet_name, owner_id) values ('{}', last_insert_rowid());\".format(pet_name)\n",
    "print(person_sql_string)\n",
    "print(pet_sql_string)\n",
    "\n",
    "cur = conn.cursor()\n",
    "cur.execute(person_sql_string)\n",
    "cur.execute(pet_sql_string)\n",
    "cur.close()\n",
    "\n",
    "#Get list\n",
    "sqlString2 = 'select * from people, pets;'\n",
    "df = pd.read_sql_query(sqlString2,conn)\n",
    "df"
   ]
  },
  {
   "cell_type": "code",
   "execution_count": 16,
   "metadata": {},
   "outputs": [],
   "source": [
    "conn.close()"
   ]
  },
  {
   "cell_type": "code",
   "execution_count": 17,
   "metadata": {},
   "outputs": [],
   "source": [
    "#conn.commit() to save to database"
   ]
  },
  {
   "cell_type": "markdown",
   "metadata": {},
   "source": [
    "Using connection from above. Starting new exercise of adding random readings to new database."
   ]
  },
  {
   "cell_type": "code",
   "execution_count": 47,
   "metadata": {},
   "outputs": [],
   "source": [
    "import time\n",
    "import datetime\n",
    "import random\n",
    "\n",
    "def mock_accel_read():\n",
    "    x = random.randrange(0, 10, 1)\n",
    "    y = random.randrange(0, 10, 1)\n",
    "    z = random.randrange(0, 10, 1)\n",
    "    serial_no = \"TestNumber\"\n",
    "    timestamp = datetime.datetime.fromtimestamp(time.time()).strftime('%Y-%m-%d %H:%M:%S')\n",
    "    return (x, y, z, serial_no, timestamp)"
   ]
  },
  {
   "cell_type": "code",
   "execution_count": 48,
   "metadata": {},
   "outputs": [],
   "source": [
    "x,y,z, serial_no, timestamp = mock_accel_read()"
   ]
  },
  {
   "cell_type": "code",
   "execution_count": 49,
   "metadata": {},
   "outputs": [
    {
     "name": "stdout",
     "output_type": "stream",
     "text": [
      "5 5 7 2019-01-27 12:30:19\n"
     ]
    }
   ],
   "source": [
    "print(x,y,z, timestamp)"
   ]
  },
  {
   "cell_type": "code",
   "execution_count": 50,
   "metadata": {},
   "outputs": [],
   "source": [
    "#Create a connection object that represents the database\n",
    "#Remember \\\\ for Windows\n",
    "conn2 = sqlite3.connect('data\\\\readings.db')"
   ]
  },
  {
   "cell_type": "code",
   "execution_count": 51,
   "metadata": {},
   "outputs": [],
   "source": [
    "#Cursor object stores knowledge about transactions excuted against database\n",
    "cur = conn2.cursor()"
   ]
  },
  {
   "cell_type": "code",
   "execution_count": 52,
   "metadata": {},
   "outputs": [],
   "source": [
    "sql_string=\"insert into readings (x, y, z, serial_no, timestamp) values ('{0}','{1}','{2}','{3}','{4}');\".format(x, y, z, serial_no, timestamp)"
   ]
  },
  {
   "cell_type": "code",
   "execution_count": 53,
   "metadata": {},
   "outputs": [
    {
     "name": "stdout",
     "output_type": "stream",
     "text": [
      "insert into readings (x, y, z, serial_no, timestamp) values ('5','5','7','TestNumber','2019-01-27 12:30:19');\n"
     ]
    }
   ],
   "source": [
    "print(sql_string)"
   ]
  },
  {
   "cell_type": "code",
   "execution_count": 54,
   "metadata": {},
   "outputs": [
    {
     "data": {
      "text/plain": [
       "<sqlite3.Cursor at 0x1a987171e30>"
      ]
     },
     "execution_count": 54,
     "metadata": {},
     "output_type": "execute_result"
    }
   ],
   "source": [
    "cur.execute(sql_string)\n",
    "#This executes the command, but doesn't display automatically"
   ]
  },
  {
   "cell_type": "code",
   "execution_count": 55,
   "metadata": {},
   "outputs": [
    {
     "data": {
      "text/plain": [
       "<sqlite3.Cursor at 0x1a987171e30>"
      ]
     },
     "execution_count": 55,
     "metadata": {},
     "output_type": "execute_result"
    }
   ],
   "source": [
    "cur.execute('select * from readings;')"
   ]
  },
  {
   "cell_type": "code",
   "execution_count": 56,
   "metadata": {},
   "outputs": [
    {
     "data": {
      "text/plain": [
       "[(1, 'TestNumber', '2019-01-27 11:53:39', 5, 4, 8),\n",
       " (2, 'TestNumber', '2019-01-27 11:53:39', 5, 4, 8),\n",
       " (3, 'TestNumber', '2019-01-27 11:53:39', 5, 4, 8),\n",
       " (4, 'TestNumber', '2019-01-27 12:17:57', 8, 1, 2),\n",
       " (5, 'TestNumber', '2019-01-27 12:30:19', 5, 5, 7)]"
      ]
     },
     "execution_count": 56,
     "metadata": {},
     "output_type": "execute_result"
    }
   ],
   "source": [
    "rows = cur.fetchall()\n",
    "rows"
   ]
  },
  {
   "cell_type": "markdown",
   "metadata": {},
   "source": [
    "Now can we add this to our pi-iot code? Wait, we didn't close the database. If we don't close it, data is not committed to the database... ie inaccessible"
   ]
  },
  {
   "cell_type": "code",
   "execution_count": 60,
   "metadata": {},
   "outputs": [
    {
     "data": {
      "text/plain": [
       "5"
      ]
     },
     "execution_count": 60,
     "metadata": {},
     "output_type": "execute_result"
    }
   ],
   "source": [
    "cur.execute('select count(*) from readings;')\n",
    "result = cur.fetchall()\n",
    "result\n",
    "count = result[0][0]\n",
    "count"
   ]
  },
  {
   "cell_type": "code",
   "execution_count": 45,
   "metadata": {},
   "outputs": [],
   "source": [
    "conn2.commit()\n",
    "conn2.close()\n"
   ]
  },
  {
   "cell_type": "markdown",
   "metadata": {},
   "source": [
    "Experimenting with os and os.path"
   ]
  },
  {
   "cell_type": "code",
   "execution_count": 61,
   "metadata": {},
   "outputs": [],
   "source": [
    "import os"
   ]
  },
  {
   "cell_type": "code",
   "execution_count": 62,
   "metadata": {},
   "outputs": [],
   "source": [
    "p = os.path.join(\"fu\")"
   ]
  },
  {
   "cell_type": "code",
   "execution_count": 63,
   "metadata": {},
   "outputs": [
    {
     "data": {
      "text/plain": [
       "'fu'"
      ]
     },
     "execution_count": 63,
     "metadata": {},
     "output_type": "execute_result"
    }
   ],
   "source": [
    "p"
   ]
  },
  {
   "cell_type": "code",
   "execution_count": 64,
   "metadata": {},
   "outputs": [],
   "source": [
    "p = os.path.join(p, \"next\")"
   ]
  },
  {
   "cell_type": "code",
   "execution_count": 65,
   "metadata": {},
   "outputs": [
    {
     "data": {
      "text/plain": [
       "'fu\\\\next'"
      ]
     },
     "execution_count": 65,
     "metadata": {},
     "output_type": "execute_result"
    }
   ],
   "source": [
    "p"
   ]
  },
  {
   "cell_type": "code",
   "execution_count": 66,
   "metadata": {},
   "outputs": [
    {
     "data": {
      "text/plain": [
       "'documents\\\\code\\\\piiot'"
      ]
     },
     "execution_count": 66,
     "metadata": {},
     "output_type": "execute_result"
    }
   ],
   "source": [
    "os.path.join(\"documents\", \"code\", \"piiot\")"
   ]
  },
  {
   "cell_type": "code",
   "execution_count": null,
   "metadata": {},
   "outputs": [],
   "source": []
  }
 ],
 "metadata": {
  "kernelspec": {
   "display_name": "Python 3",
   "language": "python",
   "name": "python3"
  },
  "language_info": {
   "codemirror_mode": {
    "name": "ipython",
    "version": 3
   },
   "file_extension": ".py",
   "mimetype": "text/x-python",
   "name": "python",
   "nbconvert_exporter": "python",
   "pygments_lexer": "ipython3",
   "version": "3.5.5"
  }
 },
 "nbformat": 4,
 "nbformat_minor": 2
}
